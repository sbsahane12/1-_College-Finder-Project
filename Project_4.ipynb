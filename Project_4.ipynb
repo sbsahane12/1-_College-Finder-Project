{
 "cells": [
  {
   "cell_type": "code",
   "execution_count": null,
   "id": "d64052b1",
   "metadata": {},
   "outputs": [
    {
     "name": "stdout",
     "output_type": "stream",
     "text": [
      "\tReal Calculator\n"
     ]
    }
   ],
   "source": [
    "print(\"\\tReal Calculator\")\n",
    "\n",
    "\n",
    "def add(a, b):\n",
    "    addition = a + b\n",
    "    print(f\"The sum of {a} and {b} is {addition}\")  # formatted strings\n",
    "\n",
    "\n",
    "def subtract(a, b):\n",
    "    subtraction = a - b\n",
    "    print(f\"The result of subtracting {b} from {a} is {subtraction}\")\n",
    "\n",
    "\n",
    "def multiply(a, b):\n",
    "    multiplication = a * b\n",
    "    print(f\"The multiplication of {a} and {b} is {multiplication}\")\n",
    "\n",
    "\n",
    "def division(a, b):\n",
    "    divide = a / b\n",
    "    print(f\"The sum of {a} and {b} is {divide}\")\n",
    "\n",
    "\n",
    "def modulus(a, b):\n",
    "    mod = a % b\n",
    "    print(f\"The modulus of {a} and {b} is {mod}\")\n",
    "\n",
    "\n",
    "# multiple inputs accepted\n",
    "number1, operator, number2 = map(str, input(\"Enter your equation: \").split())\n",
    "number1 = int(number1)\n",
    "number2 = int(number2)\n",
    "\n",
    "if operator == \"+\":\n",
    "    add(number1, number2)\n",
    "\n",
    "elif operator == \"-\":\n",
    "    subtract(number1, number2)\n",
    "\n",
    "elif operator == \"*\":\n",
    "    multiply(number1, number2)\n",
    "\n",
    "elif operator == \"/\":\n",
    "    division(number1, number2)\n",
    "\n",
    "elif operator == \"%\":\n",
    "    modulus(number1, number2)\n",
    "\n",
    "else:\n",
    "    print(\"Invalid Typo Error! Type something like : 4 / 2\")"
   ]
  },
  {
   "cell_type": "code",
   "execution_count": null,
   "id": "fa8b12df",
   "metadata": {},
   "outputs": [],
   "source": []
  },
  {
   "cell_type": "code",
   "execution_count": null,
   "id": "45692bc9",
   "metadata": {},
   "outputs": [],
   "source": []
  }
 ],
 "metadata": {
  "kernelspec": {
   "display_name": "Python 3 (ipykernel)",
   "language": "python",
   "name": "python3"
  },
  "language_info": {
   "codemirror_mode": {
    "name": "ipython",
    "version": 3
   },
   "file_extension": ".py",
   "mimetype": "text/x-python",
   "name": "python",
   "nbconvert_exporter": "python",
   "pygments_lexer": "ipython3",
   "version": "3.9.12"
  }
 },
 "nbformat": 4,
 "nbformat_minor": 5
}
