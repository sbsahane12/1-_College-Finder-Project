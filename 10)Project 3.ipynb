{
 "cells": [
  {
   "cell_type": "code",
   "execution_count": 1,
   "id": "f664e2a1",
   "metadata": {},
   "outputs": [
    {
     "name": "stdout",
     "output_type": "stream",
     "text": [
      "Enter The Number which Have To Print Multiplication Tabel:\n",
      "4\n",
      "*#*#*#*#*#*#*# Multiplication Table Of 4 *#*#*#*#*#*#*#\n",
      "4 X 1 = 4\n",
      "4 X 2 = 8\n",
      "4 X 3 = 12\n",
      "4 X 4 = 16\n",
      "4 X 5 = 20\n",
      "4 X 6 = 24\n",
      "4 X 7 = 28\n",
      "4 X 8 = 32\n",
      "4 X 9 = 36\n",
      "4 X 10 = 40\n",
      "4 X 11 = 44\n",
      "4 X 12 = 48\n"
     ]
    }
   ],
   "source": [
    "k=int(input(\"Enter The Number which Have To Print Multiplication Tabel:\\n\"))\n",
    "print(\"*#\"*7+\" \"+\"Multiplication Table Of {k}\".format(k=k)+\" \"+\"*#\"*7)\n",
    "i=1\n",
    "while(i<13):\n",
    "    print(k,\"X\" ,i,\"=\",k*i)\n",
    "    i=i+1"
   ]
  },
  {
   "cell_type": "code",
   "execution_count": null,
   "id": "7d0df4e8",
   "metadata": {},
   "outputs": [],
   "source": []
  },
  {
   "cell_type": "code",
   "execution_count": null,
   "id": "8d764c78",
   "metadata": {},
   "outputs": [],
   "source": []
  }
 ],
 "metadata": {
  "kernelspec": {
   "display_name": "Python 3 (ipykernel)",
   "language": "python",
   "name": "python3"
  },
  "language_info": {
   "codemirror_mode": {
    "name": "ipython",
    "version": 3
   },
   "file_extension": ".py",
   "mimetype": "text/x-python",
   "name": "python",
   "nbconvert_exporter": "python",
   "pygments_lexer": "ipython3",
   "version": "3.9.12"
  }
 },
 "nbformat": 4,
 "nbformat_minor": 5
}
