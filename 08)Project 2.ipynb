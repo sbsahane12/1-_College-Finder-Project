{
 "cells": [
  {
   "cell_type": "code",
   "execution_count": 1,
   "id": "501e8c95",
   "metadata": {},
   "outputs": [
    {
     "name": "stdout",
     "output_type": "stream",
     "text": [
      "Let's Play Rock,Papper And Scissors\n",
      "Enter Your Choise r/p/s\n",
      "r\n",
      "Enter Your Choise r/p/s\n",
      "p\n",
      "player 1 choose r And player 2 choose p\n",
      "Player 1 Won Match\n"
     ]
    }
   ],
   "source": [
    "print(\"Let's Play Rock,Papper And Scissors\")\n",
    "p1=str(input(\"Enter Your Choise r/p/s\\n\"))\n",
    "p2=str(input(\"Enter Your Choise r/p/s\\n\"))\n",
    "\n",
    "if(p1==\"r\") and (p2==\"r\"):\n",
    "    print(\"player 1 choose {p1} And player 2 choose {p2}\".format(p1=p1,p2=p2))\n",
    "    print(\"Match Is Tie\")\n",
    "elif(p1==\"r\") and (p2==\"p\"):\n",
    "    print(\"player 1 choose {p1} And player 2 choose {p2}\".format(p1=p1,p2=p2))\n",
    "    print(\"Player 1 Won Match\")\n",
    "elif(p1==\"r\") and (p2==\"s\"):\n",
    "    print(\"player 1 choose {p1} And player 2 choose {p2}\".format(p1=p1,p2=p2))\n",
    "    print(\"Player 2 Won Match\")\n",
    "elif(p1==\"p\") and (p2==\"p\"):\n",
    "    print(\"player 1 choose {p1} And player 2 choose {p2}\".format(p1=p1,p2=p2))\n",
    "    print(\"Match Is Tie\")\n",
    "elif(p1==\"p\") and (p2==\"r\"):\n",
    "    print(\"player 1 choose {p1} And player 2 choose {p2}\".format(p1=p1,p2=p2))\n",
    "    print(\"Match Is Tie\")\n",
    "elif(p1==\"p\") and (p2==\"s\"):\n",
    "    print(\"player 1 choose {p1} And player 2 choose {p2}\".format(p1=p1,p2=p2))\n",
    "    print(\"Match Is Tie\")\n",
    "elif(p1==\"s\") and (p2==\"s\"):\n",
    "    print(\"player 1 choose {p1} And player 2 choose {p2}\".format(p1=p1,p2=p2))\n",
    "    print(\"Match Is Tie\")\n",
    "elif(p1==\"s\") and (p2==\"r\"):\n",
    "    print(\"player 1 choose {p1} And player 2 choose {p2}\".format(p1=p1,p2=p2))\n",
    "    print(\"Match Is Tie\")\n",
    "else:\n",
    "    print(\"player 1 choose {p1} And player 2 choose {p2}\".format(p1=p1,p2=p2))\n",
    "    print(\"Player 2 Won Match\")\n"
   ]
  },
  {
   "cell_type": "code",
   "execution_count": null,
   "id": "016d6213",
   "metadata": {},
   "outputs": [],
   "source": []
  }
 ],
 "metadata": {
  "kernelspec": {
   "display_name": "Python 3 (ipykernel)",
   "language": "python",
   "name": "python3"
  },
  "language_info": {
   "codemirror_mode": {
    "name": "ipython",
    "version": 3
   },
   "file_extension": ".py",
   "mimetype": "text/x-python",
   "name": "python",
   "nbconvert_exporter": "python",
   "pygments_lexer": "ipython3",
   "version": "3.9.12"
  }
 },
 "nbformat": 4,
 "nbformat_minor": 5
}
