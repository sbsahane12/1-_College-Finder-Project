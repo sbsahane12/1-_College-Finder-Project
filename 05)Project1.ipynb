{
 "cells": [
  {
   "cell_type": "code",
   "execution_count": null,
   "id": "e3cdedb1-d670-411c-80fa-b57740862c2b",
   "metadata": {},
   "outputs": [],
   "source": []
  },
  {
   "cell_type": "code",
   "execution_count": null,
   "id": "4da6692c-20ea-4e75-a255-a3a6f6053d6d",
   "metadata": {},
   "outputs": [],
   "source": []
  },
  {
   "cell_type": "code",
   "execution_count": 2,
   "id": "b947a431-54a4-45d9-9210-0926f90480c1",
   "metadata": {},
   "outputs": [
    {
     "name": "stdout",
     "output_type": "stream",
     "text": [
      "Enter Your Name:\n",
      "SAGAR BHAUSAHEB SAHANE\n",
      "Enter The Std:\n",
      "12\n",
      "Enter Your Division\n",
      "A\n",
      "Enter Your Roll No:\n",
      "1\n",
      "Enter The Marks Of Science:\n",
      "34\n",
      "Enter The Marks Of Math:\n",
      "67\n",
      "Enter The Marks OF English:\n",
      "90\n",
      "Enter The Marks Of Social-Science:\n",
      "23\n",
      "Enter The Marks Of Marathi:\n",
      "56\n",
      "Enter The Marks Of Chemistry:\n",
      "87\n",
      "Name:\n",
      " SAGAR BHAUSAHEB SAHANE\n",
      "Std:\n",
      " 12\n",
      "Division:\n",
      " A\n",
      "Science Marks:\n",
      " 34\n",
      "Math Marks:\n",
      " 67\n",
      "English Marks:\n",
      " 90\n",
      "Social-Science Marks:\n",
      " 23\n",
      "Marathi Marks:\n",
      " 56\n",
      "Chemistry Marks:\n",
      " 87\n",
      "Percentage Of Student:  59.5\n"
     ]
    }
   ],
   "source": [
    "name = str(input(\"Enter Your Name:\\n\"))\n",
    "std = str(input(\"Enter The Std:\\n\"))\n",
    "div = str(input(\"Enter Your Division\\n\"))\n",
    "roll_no = int(input(\"Enter Your Roll No:\\n\"))\n",
    "sci_mr = int(input(\"Enter The Marks Of Science:\\n\"))\n",
    "math_mr = int(input(\"Enter The Marks Of Math:\\n\"))\n",
    "eng_mr = int(input(\"Enter The Marks OF English:\\n\"))\n",
    "ss_mr = int(input(\"Enter The Marks Of Social-Science:\\n\"))\n",
    "mar_mr = int(input(\"Enter The Marks Of Marathi:\\n\"))\n",
    "chem_mr = int(input(\"Enter The Marks Of Chemistry:\\n\"))\n",
    "p = float((sci_mr + math_mr + eng_mr + ss_mr + mar_mr + chem_mr)/6)\n",
    "print(\"Name:\\n\", name)\n",
    "print(\"Std:\\n\", std)\n",
    "print(\"Division:\\n\", div)\n",
    "print(\"Science Marks:\\n\", sci_mr)\n",
    "print(\"Math Marks:\\n\", math_mr)\n",
    "print(\"English Marks:\\n\", eng_mr)\n",
    "print(\"Social-Science Marks:\\n\", ss_mr)\n",
    "print(\"Marathi Marks:\\n\", mar_mr)\n",
    "print(\"Chemistry Marks:\\n\", chem_mr)\n",
    "print(\"Percentage Of Student: \", p)"
   ]
  },
  {
   "cell_type": "code",
   "execution_count": null,
   "id": "ad66c354",
   "metadata": {},
   "outputs": [],
   "source": []
  }
 ],
 "metadata": {
  "kernelspec": {
   "display_name": "Python 3 (ipykernel)",
   "language": "python",
   "name": "python3"
  },
  "language_info": {
   "codemirror_mode": {
    "name": "ipython",
    "version": 3
   },
   "file_extension": ".py",
   "mimetype": "text/x-python",
   "name": "python",
   "nbconvert_exporter": "python",
   "pygments_lexer": "ipython3",
   "version": "3.9.12"
  },
  "vscode": {
   "interpreter": {
    "hash": "2e1984914bfec2b620dc72bb669e7a06684a6f70d313211b880fdcdc7f0f0298"
   }
  }
 },
 "nbformat": 4,
 "nbformat_minor": 5
}
